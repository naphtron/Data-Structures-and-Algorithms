{
  "nbformat": 4,
  "nbformat_minor": 0,
  "metadata": {
    "colab": {
      "provenance": [],
      "authorship_tag": "ABX9TyNitSFbMmxqdCmO8gaxERG5",
      "include_colab_link": true
    },
    "kernelspec": {
      "name": "python3",
      "display_name": "Python 3"
    },
    "language_info": {
      "name": "python"
    }
  },
  "cells": [
    {
      "cell_type": "markdown",
      "metadata": {
        "id": "view-in-github",
        "colab_type": "text"
      },
      "source": [
        "<a href=\"https://colab.research.google.com/github/naphtron/Data-Structures-and-Algorithms/blob/main/python_dsa.ipynb\" target=\"_parent\"><img src=\"https://colab.research.google.com/assets/colab-badge.svg\" alt=\"Open In Colab\"/></a>"
      ]
    },
    {
      "cell_type": "markdown",
      "source": [
        "##Binary Search Algorithm\n",
        "- Context: Finding a card in a deck"
      ],
      "metadata": {
        "id": "X_oMxSWuF2sX"
      }
    },
    {
      "cell_type": "code",
      "execution_count": null,
      "metadata": {
        "id": "_8taELrJ_Q9e"
      },
      "outputs": [],
      "source": [
        "def locate_cards(cards, query):\n",
        "  lo, hi =0, len(cards) - 1 # lo: first index, hi: last index\n",
        "# elements in the array are in decreasing order\n",
        "  while lo <= hi:\n",
        "    mid = (lo + hi) // 2\n",
        "    mid_number = cards[mid]\n",
        "\n",
        "    print(\"lo:\", lo, \", hi: \", hi, \", mid:\", mid, \", mid_number:\", mid_number)\n",
        "\n",
        "    if mid_number == query:\n",
        "      return mid\n",
        "    elif mid_number < query:\n",
        "      hi = mid - 1\n",
        "    elif mid_number > query:\n",
        "      lo = mid + 1\n",
        "\n",
        "  return -1"
      ]
    },
    {
      "cell_type": "markdown",
      "source": [
        "Binary search has a lot of special cases. It is good to consider these."
      ],
      "metadata": {
        "id": "vU8Zx4B55f6j"
      }
    },
    {
      "cell_type": "code",
      "source": [],
      "metadata": {
        "id": "izbGCfA3ofFs"
      },
      "execution_count": null,
      "outputs": []
    },
    {
      "cell_type": "markdown",
      "source": [],
      "metadata": {
        "id": "F_QlEmbjF0kj"
      }
    },
    {
      "cell_type": "markdown",
      "source": [
        "#Rotated Lists Problems\n"
      ],
      "metadata": {
        "id": "lONNunQwMxq6"
      }
    },
    {
      "cell_type": "code",
      "source": [
        "# Solution using linear search\n",
        "\n",
        "def count_rotations_linear(nums):\n",
        "  position = 0\n",
        "\n",
        "  while position < len(nums):\n",
        "    if position > 0 and nums[position] < nums[position-1]:\n",
        "      return position\n",
        "\n",
        "    position += 1\n",
        "\n",
        "  return 0"
      ],
      "metadata": {
        "id": "hT2D9KkCM2DB"
      },
      "execution_count": 2,
      "outputs": []
    },
    {
      "cell_type": "code",
      "source": [
        "count_rotations_linear([2,3,4,5,1,9])"
      ],
      "metadata": {
        "colab": {
          "base_uri": "https://localhost:8080/"
        },
        "id": "yi50qLi-U44H",
        "outputId": "80c25f50-06a6-40a8-c1fb-2cb6612de0a5"
      },
      "execution_count": 4,
      "outputs": [
        {
          "output_type": "execute_result",
          "data": {
            "text/plain": [
              "4"
            ]
          },
          "metadata": {},
          "execution_count": 4
        }
      ]
    }
  ]
}