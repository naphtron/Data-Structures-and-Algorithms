{
  "nbformat": 4,
  "nbformat_minor": 0,
  "metadata": {
    "colab": {
      "provenance": [],
      "authorship_tag": "ABX9TyPtC7kq7I6dsNcJ1JfRoyEc",
      "include_colab_link": true
    },
    "kernelspec": {
      "name": "python3",
      "display_name": "Python 3"
    },
    "language_info": {
      "name": "python"
    }
  },
  "cells": [
    {
      "cell_type": "markdown",
      "metadata": {
        "id": "view-in-github",
        "colab_type": "text"
      },
      "source": [
        "<a href=\"https://colab.research.google.com/github/naphtron/Data-Structures-and-Algorithms/blob/main/python_dsa.ipynb\" target=\"_parent\"><img src=\"https://colab.research.google.com/assets/colab-badge.svg\" alt=\"Open In Colab\"/></a>"
      ]
    },
    {
      "cell_type": "markdown",
      "source": [
        "##Binary Search Algorithm\n",
        "- Context: Finding a card in a deck"
      ],
      "metadata": {
        "id": "X_oMxSWuF2sX"
      }
    },
    {
      "cell_type": "code",
      "execution_count": null,
      "metadata": {
        "id": "_8taELrJ_Q9e"
      },
      "outputs": [],
      "source": [
        "def locate_cards(cards, query):\n",
        "  lo, hi =0, len(cards) - 1 # lo: first index, hi: last index\n",
        "\n",
        "  while lo <= hi:\n",
        "    mid = (lo + hi) // 2\n",
        "    mid_number = cards[mid]\n",
        "\n",
        "    print(\"lo:\", lo, \", hi: \", hi, \", mid:\", mid, \", mid_number:\", mid_number)\n",
        "\n",
        "    if mid_number == query:\n",
        "      return mid\n",
        "    elif mid_number < query:\n",
        "      hi = mid - 1\n",
        "    elif mid_number > query:\n",
        "      lo = mid + 1\n",
        "\n",
        "  return -1"
      ]
    },
    {
      "cell_type": "markdown",
      "source": [],
      "metadata": {
        "id": "F_QlEmbjF0kj"
      }
    }
  ]
}