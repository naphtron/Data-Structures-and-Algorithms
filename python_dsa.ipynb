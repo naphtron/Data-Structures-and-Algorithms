{
  "nbformat": 4,
  "nbformat_minor": 0,
  "metadata": {
    "colab": {
      "provenance": [],
      "authorship_tag": "ABX9TyN7RyAL8UL3TE0+t/Gt1SCa",
      "include_colab_link": true
    },
    "kernelspec": {
      "name": "python3",
      "display_name": "Python 3"
    },
    "language_info": {
      "name": "python"
    }
  },
  "cells": [
    {
      "cell_type": "markdown",
      "metadata": {
        "id": "view-in-github",
        "colab_type": "text"
      },
      "source": [
        "<a href=\"https://colab.research.google.com/github/naphtron/Data-Structures-and-Algorithms/blob/main/python_dsa.ipynb\" target=\"_parent\"><img src=\"https://colab.research.google.com/assets/colab-badge.svg\" alt=\"Open In Colab\"/></a>"
      ]
    },
    {
      "cell_type": "markdown",
      "source": [
        "##Binary Search Algorithm\n",
        "- Context: Finding a card in a deck"
      ],
      "metadata": {
        "id": "X_oMxSWuF2sX"
      }
    },
    {
      "cell_type": "code",
      "execution_count": null,
      "metadata": {
        "id": "_8taELrJ_Q9e"
      },
      "outputs": [],
      "source": [
        "def locate_cards(cards, query):\n",
        "  lo, hi =0, len(cards) - 1 # lo: first index, hi: last index\n",
        "# elements in the array are in decreasing order\n",
        "  while lo <= hi:\n",
        "    mid = (lo + hi) // 2\n",
        "    mid_number = cards[mid]\n",
        "\n",
        "    print(\"lo:\", lo, \", hi: \", hi, \", mid:\", mid, \", mid_number:\", mid_number)\n",
        "\n",
        "    if mid_number == query:\n",
        "      return mid\n",
        "    elif mid_number < query:\n",
        "      hi = mid - 1\n",
        "    elif mid_number > query:\n",
        "      lo = mid + 1\n",
        "\n",
        "  return -1"
      ]
    },
    {
      "cell_type": "markdown",
      "source": [
        "Binary search has a lot of special cases. It is good to consider these."
      ],
      "metadata": {
        "id": "vU8Zx4B55f6j"
      }
    },
    {
      "cell_type": "code",
      "source": [],
      "metadata": {
        "id": "izbGCfA3ofFs"
      },
      "execution_count": null,
      "outputs": []
    },
    {
      "cell_type": "markdown",
      "source": [],
      "metadata": {
        "id": "F_QlEmbjF0kj"
      }
    },
    {
      "cell_type": "markdown",
      "source": [
        "#Rotated Lists Problems\n"
      ],
      "metadata": {
        "id": "lONNunQwMxq6"
      }
    },
    {
      "cell_type": "code",
      "source": [
        "# Solution using linear search\n",
        "\n",
        "def count_rotations_linear(nums):\n",
        "  position = 0\n",
        "\n",
        "  while position < len(nums):\n",
        "    if position > 0 and nums[position] < nums[position-1]:\n",
        "      return position\n",
        "\n",
        "    position += 1\n",
        "\n",
        "  return 0"
      ],
      "metadata": {
        "id": "hT2D9KkCM2DB"
      },
      "execution_count": null,
      "outputs": []
    },
    {
      "cell_type": "code",
      "source": [
        "count_rotations_linear([2,3,4,5,1,9])"
      ],
      "metadata": {
        "colab": {
          "base_uri": "https://localhost:8080/"
        },
        "id": "yi50qLi-U44H",
        "outputId": "80c25f50-06a6-40a8-c1fb-2cb6612de0a5"
      },
      "execution_count": null,
      "outputs": [
        {
          "output_type": "execute_result",
          "data": {
            "text/plain": [
              "4"
            ]
          },
          "metadata": {},
          "execution_count": 4
        }
      ]
    },
    {
      "cell_type": "code",
      "source": [
        "'name'>'namd'"
      ],
      "metadata": {
        "colab": {
          "base_uri": "https://localhost:8080/"
        },
        "id": "phQ3FPof70jo",
        "outputId": "837ec815-4b2d-4a2d-9520-a4fb70005633"
      },
      "execution_count": 6,
      "outputs": [
        {
          "output_type": "execute_result",
          "data": {
            "text/plain": [
              "True"
            ]
          },
          "metadata": {},
          "execution_count": 6
        }
      ]
    },
    {
      "cell_type": "markdown",
      "source": [
        "##Binary Search Tree"
      ],
      "metadata": {
        "id": "1OV2B7A0CUGb"
      }
    },
    {
      "cell_type": "code",
      "source": [
        "class TreeNode:\n",
        "  def __init__(self,key):\n",
        "    self.key = key\n",
        "    self.left = None\n",
        "    self.right = None"
      ],
      "metadata": {
        "id": "MSLlC40rCYKs"
      },
      "execution_count": 9,
      "outputs": []
    },
    {
      "cell_type": "code",
      "source": [
        "node0 = TreeNode(3)\n",
        "node1 = TreeNode(4)\n",
        "node2 = TreeNode(5)"
      ],
      "metadata": {
        "id": "OCqMiRTQCpS4"
      },
      "execution_count": 10,
      "outputs": []
    },
    {
      "cell_type": "code",
      "source": [
        "node0"
      ],
      "metadata": {
        "colab": {
          "base_uri": "https://localhost:8080/"
        },
        "id": "jQAMx7zhC9KO",
        "outputId": "8586570f-d8b6-428a-ff5b-254b00406c08"
      },
      "execution_count": 13,
      "outputs": [
        {
          "output_type": "execute_result",
          "data": {
            "text/plain": [
              "<__main__.TreeNode at 0x7c4b1fbf7e80>"
            ]
          },
          "metadata": {},
          "execution_count": 13
        }
      ]
    }
  ]
}