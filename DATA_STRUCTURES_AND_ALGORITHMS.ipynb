{
 "cells": [
  {
   "cell_type": "code",
   "execution_count": null,
   "metadata": {
    "id": "0h_8YW7Zu0ox"
   },
   "outputs": [],
   "source": [
    "#LINEAR SEARCH"
   ]
  },
  {
   "cell_type": "code",
   "execution_count": null,
   "metadata": {
    "colab": {
     "base_uri": "https://localhost:8080/"
    },
    "id": "q6oCg02YvE6V",
    "outputId": "ed1fb5c0-7c2b-4c8a-951b-7bc5526c87bf"
   },
   "outputs": [
    {
     "name": "stdout",
     "output_type": "stream",
     "text": [
      "Target found at index:  6\n"
     ]
    }
   ],
   "source": [
    "from IPython.core.debugger import re\n",
    "def linear_search(list, target):\n",
    "   #returns the index position of the target if found, else returns none #lenlist is a constant time\n",
    "   for i in range(0, len(list)):\n",
    "    if list[i] == target:\n",
    "      return i\n",
    "   return None\n",
    "\n",
    "\n",
    "def verify(index):\n",
    "  if index is not None:\n",
    "    print(\"Target found at index: \", index)\n",
    "  else:\n",
    "    print(\"Target not found in list\")\n",
    "\n",
    "numbers = [1, 2, 3, 4, 5, 6, 7, 8, 9, 10]\n",
    "\n",
    "result = linear_search(numbers, 7)\n",
    "verify(result)"
   ]
  },
  {
   "cell_type": "code",
   "execution_count": null,
   "metadata": {
    "colab": {
     "base_uri": "https://localhost:8080/"
    },
    "id": "zwKsGznQvggn",
    "outputId": "44aa1ed0-ca6e-4048-96da-1cf4164b187e"
   },
   "outputs": [
    {
     "name": "stdout",
     "output_type": "stream",
     "text": [
      "Target found at index:  3\n"
     ]
    }
   ],
   "source": [
    "\n",
    " #binary search\n",
    "def binary_search(list, target):\n",
    "  first = 0\n",
    "  last = len(list) - 1 #because it starts at 0\n",
    "\n",
    "  while first <= last: #while loop increases the time\n",
    "    midpoint = (first + last)//2\n",
    "\n",
    "    if list[midpoint] == target:\n",
    "      return midpoint\n",
    "\n",
    "    elif list[midpoint] < target:\n",
    "      first = midpoint + 1\n",
    "\n",
    "    else:\n",
    "      last = midpoint -1\n",
    "\n",
    "  return None\n",
    "\n",
    "def verify(index):\n",
    "  if index is not None:\n",
    "    print(\"Target found at index: \", index)\n",
    "  else:\n",
    "    print(\"Target not found in list\")\n",
    "\n",
    "numbers = [1, 2, 3, 4, 5, 6, 7, 8, 9, 10] #values must be sorted otherwise binary search will return none\n",
    "\n",
    "result = binary_search(numbers, 4)\n",
    "verify(result)"
   ]
  },
  {
   "cell_type": "code",
   "execution_count": null,
   "metadata": {
    "colab": {
     "base_uri": "https://localhost:8080/"
    },
    "id": "qNNEHq9r0UwA",
    "outputId": "18d93566-6e39-48a2-a55d-c7841f936e3f"
   },
   "outputs": [
    {
     "name": "stdout",
     "output_type": "stream",
     "text": [
      "Target found:  True\n"
     ]
    }
   ],
   "source": [
    "#recursive binary search\n",
    "def recursive_binary_search(list, target):\n",
    "  if len(list) == 0:\n",
    "    return False\n",
    "  else:\n",
    "    midpoint = (len(list))//2\n",
    "\n",
    "    if list[midpoint] == target:\n",
    "      return True\n",
    "\n",
    "    else:\n",
    "      if list[midpoint] < target:\n",
    "        return recursive_binary_search(list[midpoint + 1:], target)\n",
    "      else:\n",
    "        return recursive_binary_search(list[:midpoint], target)\n",
    "\n",
    "def verify(result):\n",
    "  print(\"Target found: \", result)\n",
    "\n",
    "numbers = [1, 2, 3, 4, 5, 6, 7, 8]\n",
    "result = recursive_binary_search(numbers, 1)\n",
    "verify(result)\n"
   ]
  },
  {
   "cell_type": "code",
   "execution_count": null,
   "metadata": {
    "id": "ikB08dox3vkH"
   },
   "outputs": [],
   "source": [
    "#arrays\n",
    "new_list = [1, 2, 3] #1, 2, 3 are stored elsewhere in\n",
    "#acessing\n",
    "res = new_list[2]"
   ]
  },
  {
   "cell_type": "code",
   "execution_count": null,
   "metadata": {
    "colab": {
     "base_uri": "https://localhost:8080/"
    },
    "id": "wSuBLIBF0jSo",
    "outputId": "e2b8ca2c-4d51-495f-f7eb-daa85a313032"
   },
   "outputs": [
    {
     "name": "stdout",
     "output_type": "stream",
     "text": [
      "True\n"
     ]
    }
   ],
   "source": [
    "#searching\n",
    "if 1 in new_list:\n",
    "  print(True)"
   ]
  },
  {
   "cell_type": "code",
   "execution_count": null,
   "metadata": {
    "colab": {
     "base_uri": "https://localhost:8080/"
    },
    "id": "lU4mdCM41m1e",
    "outputId": "1d71be41-9280-4858-e3f9-0a54ecdb4b91"
   },
   "outputs": [
    {
     "name": "stdout",
     "output_type": "stream",
     "text": [
      "True\n"
     ]
    }
   ],
   "source": [
    "for i in new_list:\n",
    "  if i == 2:\n",
    "    print(True)"
   ]
  },
  {
   "cell_type": "code",
   "execution_count": null,
   "metadata": {
    "colab": {
     "base_uri": "https://localhost:8080/"
    },
    "id": "GtLgwjyX1udA",
    "outputId": "06299aa9-b958-4037-bc4d-611cb2a445bf"
   },
   "outputs": [
    {
     "data": {
      "text/plain": [
       "0"
      ]
     },
     "execution_count": 7,
     "metadata": {},
     "output_type": "execute_result"
    }
   ],
   "source": [
    "#inserting anywhere in the list has a linear runtime\n",
    "#appending adds to the end of the list hence has a constant time\n",
    "numberz = []\n",
    "len(numberz)"
   ]
  },
  {
   "cell_type": "code",
   "execution_count": null,
   "metadata": {
    "id": "blTsUjXi2cck"
   },
   "outputs": [],
   "source": [
    "numberz.append(2)\n",
    "numberz.append(200)"
   ]
  },
  {
   "cell_type": "code",
   "execution_count": null,
   "metadata": {
    "id": "eB-jLsG02rDv"
   },
   "outputs": [],
   "source": [
    "#linked list is a linear data structure where each element in the list where each object iscontained in  a separate object called a node"
   ]
  },
  {
   "cell_type": "code",
   "execution_count": 1,
   "metadata": {
    "id": "c20zCtW-6URB"
   },
   "outputs": [],
   "source": [
    "#singly list\n",
    "class Node:\n",
    "  \"\"\"\n",
    "  an object for storing a single node of a linked list\n",
    "  models two attributes - data and the link to the next node in the list\n",
    "  \"\"\"\n",
    "  data = None\n",
    "  next_node=None\n",
    "\n",
    "  def __init__(self, data):\n",
    "    self.data = data\n",
    "\n",
    "\n",
    "  def __repr__(self):\n",
    "    return \"<Node data:%s>\" % self.data\n",
    "\n",
    "\n",
    "class LinkedList:\n",
    "  \"\"\"\n",
    "  singly linked list\n",
    "  \"\"\"\n",
    "\n",
    "  def __init__(self):\n",
    "    self.head=None\n",
    "\n",
    "  def is_empty(self):\n",
    "    return self.head == None\n",
    "\n",
    "  def size(self):\n",
    "    \"\"\"\n",
    "    Returns the number of nodes in the list\n",
    "    Takes linear time\n",
    "    \"\"\"\n",
    "    current = self.head\n",
    "    count = 0\n",
    "\n",
    "    while current:\n",
    "      count += 1\n",
    "      current = current.next_node\n",
    "\n",
    "    return count\n",
    "\n",
    "  def add(self, data):\n",
    "\n",
    "    \"\"\"\n",
    "    Adds new node containing data at head of the list\n",
    "    Takes constant time\n",
    "    \"\"\"\n",
    "    new_node = Node(data)\n",
    "    new_node.next_node = self.head\n",
    "    self.head = new_node\n",
    "\n",
    "  def search(self, key):\n",
    "    \"\"\"\n",
    "    search for the first node containing data that matches the key\n",
    "    return the node or none if not found\n",
    "    takes linear time\n",
    "    \"\"\"\n",
    "    current = self.head\n",
    "\n",
    "    while current:\n",
    "      if current.data == key:\n",
    "        return current\n",
    "      else:\n",
    "        current = current.next_node\n",
    "\n",
    "      return None\n",
    "\n",
    "  def insert(self, data,index):\n",
    "    \"\"\"\n",
    "    inserts a new node containing data at index positions\n",
    "    insertion takes constant time but finding the node insertion\n",
    "    takes linear time\n",
    "    takes overall linear time\n",
    "    \"\"\"\n",
    "    if index == 0:\n",
    "      self.add(data)\n",
    "\n",
    "    if index > 0:\n",
    "      new = Node(data)\n",
    "\n",
    "      position = index\n",
    "      current = self.head\n",
    "\n",
    "      while position > 1:\n",
    "        current = Node.next_node  ##\n",
    "        position -= 1\n",
    "\n",
    "      prev_node = current\n",
    "      next_node = current.next_node\n",
    "\n",
    "      prev_node.next_node = new\n",
    "      new.next_node = next_node\n",
    "\n",
    "  def remove(self, key):\n",
    "    \"\"\"\n",
    "    removes node containing data that matches the key\n",
    "    returns data or none if key dooesn't exist\n",
    "    takes linear time\n",
    "    \"\"\"\n",
    "    current = self.head\n",
    "    previous = None\n",
    "    found = False\n",
    "\n",
    "    while current and not found:\n",
    "      if current.data == key and current is self.head:\n",
    "        found = True\n",
    "        self.head = current.next_node\n",
    "\n",
    "      elif current.data == key:\n",
    "        found = True\n",
    "        previous.next_node = current.next_node\n",
    "\n",
    "      else:\n",
    "        previous = current\n",
    "        current = current.next_node\n",
    "\n",
    "      return current\n",
    "\n",
    "  def node_at_index(self, index):\n",
    "    if index == 0:\n",
    "      return self.head\n",
    "\n",
    "    else:\n",
    "      current = self.head\n",
    "      position = 0\n",
    "\n",
    "      while position < index:\n",
    "        current = current.next_node\n",
    "        position += 1\n",
    "      return current\n",
    "\n",
    "\n",
    "\n",
    "  def __repr__(self):\n",
    "    \"\"\"\n",
    "    returns a string representation of the list\n",
    "    takes O(n) time\n",
    "    \"\"\"\n",
    "\n",
    "    nodes = []\n",
    "    current = self.head\n",
    "\n",
    "    while current:\n",
    "      if current is self.head:\n",
    "        nodes.append(\"[Head: %s]\" % current.data)\n",
    "      elif current.next_node is None:\n",
    "        nodes.append(\"[Tail: %s]\" % current.data)\n",
    "      else:\n",
    "        nodes.append(\"[%s] % current.data\")\n",
    "\n",
    "      current = current.next_node\n",
    "\n",
    "      return '->'.join(nodes)\n",
    "\n"
   ]
  },
  {
   "cell_type": "code",
   "execution_count": null,
   "metadata": {
    "colab": {
     "base_uri": "https://localhost:8080/"
    },
    "id": "CnutF77x63z3",
    "outputId": "26f2b517-0708-4f23-fb72-7adb86d2443a"
   },
   "outputs": [
    {
     "data": {
      "text/plain": [
       "<__main__.Node at 0x7eaa24f0a680>"
      ]
     },
     "execution_count": 11,
     "metadata": {},
     "output_type": "execute_result"
    }
   ],
   "source": [
    "N1 = Node(10)\n",
    "N1"
   ]
  },
  {
   "cell_type": "code",
   "execution_count": null,
   "metadata": {
    "colab": {
     "base_uri": "https://localhost:8080/"
    },
    "id": "HVSMiUQ67AQk",
    "outputId": "81a79b2e-246e-42fd-e62c-3d0670708b21"
   },
   "outputs": [
    {
     "data": {
      "text/plain": [
       "<Node data:11>"
      ]
     },
     "execution_count": 13,
     "metadata": {},
     "output_type": "execute_result"
    }
   ],
   "source": [
    "N2 = Node(11)\n",
    "N2"
   ]
  },
  {
   "cell_type": "code",
   "execution_count": null,
   "metadata": {
    "colab": {
     "base_uri": "https://localhost:8080/"
    },
    "id": "XJ7fv3Oq7YnR",
    "outputId": "88e47bf4-2600-4351-b728-de3293a1b982"
   },
   "outputs": [
    {
     "data": {
      "text/plain": [
       "1"
      ]
     },
     "execution_count": 16,
     "metadata": {},
     "output_type": "execute_result"
    }
   ],
   "source": [
    "#nodes are the building blocks for linkedlist\n",
    "l = LinkedList()\n",
    "N3 = Node(20)\n",
    "l.head = N3\n",
    "l.size()"
   ]
  },
  {
   "cell_type": "code",
   "execution_count": null,
   "metadata": {
    "colab": {
     "base_uri": "https://localhost:8080/"
    },
    "id": "HXswkbq299Sg",
    "outputId": "42b87f3c-385b-4cde-af68-e2a3787a8bc6"
   },
   "outputs": [
    {
     "data": {
      "text/plain": [
       "1"
      ]
     },
     "execution_count": 18,
     "metadata": {},
     "output_type": "execute_result"
    }
   ],
   "source": [
    "k = LinkedList()\n",
    "k.add(1)\n",
    "l.size()"
   ]
  },
  {
   "cell_type": "code",
   "execution_count": null,
   "metadata": {
    "colab": {
     "base_uri": "https://localhost:8080/"
    },
    "id": "tELTDLTf-sbf",
    "outputId": "c240576e-defd-427f-db22-5d7ca28ac62c"
   },
   "outputs": [
    {
     "data": {
      "text/plain": [
       "[Head: 3]->[%s] % current.data->[Tail: 1]"
      ]
     },
     "execution_count": 20,
     "metadata": {},
     "output_type": "execute_result"
    }
   ],
   "source": [
    "e = LinkedList()\n",
    "e.add(1)\n",
    "e.add(2)\n",
    "e.add(3)\n",
    "e"
   ]
  },
  {
   "cell_type": "code",
   "execution_count": null,
   "metadata": {
    "colab": {
     "base_uri": "https://localhost:8080/"
    },
    "id": "qkLcfzuuLINL",
    "outputId": "16aa32c4-5d05-4c27-8441-d065ea551288"
   },
   "outputs": [
    {
     "data": {
      "text/plain": [
       "<Node data:34>"
      ]
     },
     "execution_count": 23,
     "metadata": {},
     "output_type": "execute_result"
    }
   ],
   "source": [
    "t = LinkedList()\n",
    "t.add(10)\n",
    "t.add(20)\n",
    "t.add(34)\n",
    "n = t.search(34)\n",
    "n"
   ]
  },
  {
   "cell_type": "code",
   "execution_count": null,
   "metadata": {
    "colab": {
     "base_uri": "https://localhost:8080/"
    },
    "id": "b-Vt70byMMIn",
    "outputId": "bebf600a-64a8-461c-ec22-6ed8bdf3351b"
   },
   "outputs": [
    {
     "name": "stdout",
     "output_type": "stream",
     "text": [
      "False\n",
      "True\n"
     ]
    }
   ],
   "source": [
    "##MERGE SORT ALGORITHM\n",
    "def merge_sort(list):\n",
    "  \"\"\"\n",
    "  sorts a list in ascending order\n",
    "  returns a new sorted list\n",
    "\n",
    "  divide:find the midpoint of the list and divide into sub lists\n",
    "  conquer: recursively sort the sublists created in previous step\n",
    "  combine: merge the sorted sublists created in previous step\n",
    "  takes O(n log n) time\n",
    "  \"\"\"\n",
    "  if len(list) <= 1:\n",
    "    return list\n",
    "\n",
    "  left_half, right_half = split(list)\n",
    "  left = merge_sort(left_half)\n",
    "  right = merge_sort(right_half)\n",
    "\n",
    "  return merge(left, right)\n",
    "\n",
    "def split(list):\n",
    "  \"\"\"\n",
    "  divide the unsorted list at midpoint into sublists\n",
    "  returns two sublists - left and right\n",
    "  takes overall O(log n)time\n",
    "  \"\"\"\n",
    "\n",
    "  mid = len(list)//2\n",
    "  left = list[:mid]\n",
    "  right = list[mid:]\n",
    "\n",
    "\n",
    "  return left, right\n",
    "\n",
    "def merge(left, right):\n",
    "  \"\"\"\n",
    "  merges two lists. sorting them in the process\n",
    "  returns a new merged list\n",
    "   takes overall O(n) time\n",
    "  \"\"\"\n",
    "\n",
    "  list2 = []\n",
    "  i = 0\n",
    "  j = 0\n",
    "\n",
    "\n",
    "  while i < len(left) and j < len(right):\n",
    "\n",
    "    if left[i] < right[j]:\n",
    "      list2.append(left[i])\n",
    "      i += 1\n",
    "\n",
    "    else:\n",
    "      list2.append(right[j])\n",
    "      j += 1\n",
    "\n",
    "\n",
    "  while i < len(left):\n",
    "    list2.append(left[i])\n",
    "    i += 1\n",
    "\n",
    "  while j < len(right):\n",
    "    list2.append(right[j])\n",
    "    j += 1\n",
    "\n",
    "  return list2\n",
    "\n",
    "def verify_sorted(list):\n",
    "  n = len(list)\n",
    "\n",
    "  if n == 0 or n == 1:\n",
    "    return True\n",
    "\n",
    "  return list[0] < list[1] and verify_sorted(list[1:])\n",
    "\n",
    "alist = [45, 34, 89, 12, 9, 65, 23, 56, 87, 72]\n",
    "ll = merge_sort(alist)\n",
    "print(verify_sorted(alist))\n",
    "print(verify_sorted(ll))"
   ]
  },
  {
   "cell_type": "code",
   "execution_count": null,
   "metadata": {
    "colab": {
     "base_uri": "https://localhost:8080/"
    },
    "id": "_wy5RoiWWoVv",
    "outputId": "efb724e9-2b78-40e1-fa50-404906a7e174"
   },
   "outputs": [
    {
     "data": {
      "text/plain": [
       "[9, 12, 23, 34, 45, 56, 65, 72, 87, 89]"
      ]
     },
     "execution_count": 29,
     "metadata": {},
     "output_type": "execute_result"
    }
   ],
   "source": [
    "alist = [45, 34, 89, 12, 9, 65, 23, 56, 87, 72]\n",
    "ll = merge_sort(alist)\n",
    "ll"
   ]
  },
  {
   "cell_type": "code",
   "execution_count": 3,
   "metadata": {
    "colab": {
     "base_uri": "https://localhost:8080/",
     "height": 385
    },
    "id": "aLopp2k-YNw3",
    "outputId": "7e6f802f-5f90-4541-e19e-f5a31e0fd9c2"
   },
   "outputs": [
    {
     "name": "stdout",
     "output_type": "stream",
     "text": [
      "[Head: 44]\n"
     ]
    },
    {
     "ename": "UnboundLocalError",
     "evalue": "ignored",
     "output_type": "error",
     "traceback": [
      "\u001b[0;31m---------------------------------------------------------------------------\u001b[0m",
      "\u001b[0;31mUnboundLocalError\u001b[0m                         Traceback (most recent call last)",
      "\u001b[0;32m<ipython-input-3-1d04e4007831>\u001b[0m in \u001b[0;36m<cell line: 114>\u001b[0;34m()\u001b[0m\n\u001b[1;32m    112\u001b[0m \u001b[0;34m\u001b[0m\u001b[0m\n\u001b[1;32m    113\u001b[0m \u001b[0mprint\u001b[0m\u001b[0;34m(\u001b[0m\u001b[0mk\u001b[0m\u001b[0;34m)\u001b[0m\u001b[0;34m\u001b[0m\u001b[0;34m\u001b[0m\u001b[0m\n\u001b[0;32m--> 114\u001b[0;31m \u001b[0msorted_linked_list\u001b[0m \u001b[0;34m=\u001b[0m \u001b[0mmerge_sort\u001b[0m\u001b[0;34m(\u001b[0m\u001b[0mk\u001b[0m\u001b[0;34m)\u001b[0m\u001b[0;34m\u001b[0m\u001b[0;34m\u001b[0m\u001b[0m\n\u001b[0m\u001b[1;32m    115\u001b[0m \u001b[0mprint\u001b[0m\u001b[0;34m(\u001b[0m\u001b[0msorted_linked_list\u001b[0m\u001b[0;34m)\u001b[0m\u001b[0;34m\u001b[0m\u001b[0;34m\u001b[0m\u001b[0m\n\u001b[1;32m    116\u001b[0m \u001b[0;34m\u001b[0m\u001b[0m\n",
      "\u001b[0;32m<ipython-input-3-1d04e4007831>\u001b[0m in \u001b[0;36mmerge_sort\u001b[0;34m(linked_list)\u001b[0m\n\u001b[1;32m     13\u001b[0m     \u001b[0;32mreturn\u001b[0m \u001b[0mlinked_list\u001b[0m\u001b[0;34m\u001b[0m\u001b[0;34m\u001b[0m\u001b[0m\n\u001b[1;32m     14\u001b[0m \u001b[0;34m\u001b[0m\u001b[0m\n\u001b[0;32m---> 15\u001b[0;31m   \u001b[0mleft_half\u001b[0m\u001b[0;34m,\u001b[0m \u001b[0mright_half\u001b[0m \u001b[0;34m=\u001b[0m \u001b[0msplit\u001b[0m\u001b[0;34m(\u001b[0m\u001b[0mlinked_list\u001b[0m\u001b[0;34m)\u001b[0m\u001b[0;34m\u001b[0m\u001b[0;34m\u001b[0m\u001b[0m\n\u001b[0m\u001b[1;32m     16\u001b[0m   \u001b[0mleft\u001b[0m \u001b[0;34m=\u001b[0m \u001b[0mmerge_sort\u001b[0m\u001b[0;34m(\u001b[0m\u001b[0mleft_half\u001b[0m\u001b[0;34m)\u001b[0m\u001b[0;34m\u001b[0m\u001b[0;34m\u001b[0m\u001b[0m\n\u001b[1;32m     17\u001b[0m   \u001b[0mright\u001b[0m \u001b[0;34m=\u001b[0m \u001b[0mmerge_sort\u001b[0m\u001b[0;34m(\u001b[0m\u001b[0mright_half\u001b[0m\u001b[0;34m)\u001b[0m\u001b[0;34m\u001b[0m\u001b[0;34m\u001b[0m\u001b[0m\n",
      "\u001b[0;31mUnboundLocalError\u001b[0m: local variable 'split' referenced before assignment"
     ]
    }
   ],
   "source": [
    "#linked list merge sort\n",
    "def merge_sort(linked_list):\n",
    "  \"\"\"\n",
    "  sorts a linked list in ascending order\n",
    "  recursively divide the linked list into sublists containing a single node\n",
    "  repeatedly merge the sublists to produce sorted sublists until one remains\n",
    "\n",
    "  returns a sorted linked list\n",
    "  \"\"\"\n",
    "  if linked_list.size() == 1:\n",
    "    return linked_list\n",
    "  elif linked_list.head is None:\n",
    "    return linked_list\n",
    "\n",
    "  left_half, right_half = split(linked_list)\n",
    "  left = merge_sort(left_half)\n",
    "  right = merge_sort(right_half)\n",
    "\n",
    "  return merge(left, right)\n",
    "\n",
    "  def split(linked_list):\n",
    "    \"\"\"\n",
    "    divide the unsorted list at midpoint into sublists\n",
    "    \"\"\"\n",
    "\n",
    "    if linked_list == None or linked_list.head == None:\n",
    "      left_half = linked_list\n",
    "      right_half = None\n",
    "\n",
    "      return left_half, right_half\n",
    "    else:\n",
    "      size = linked_list.size()\n",
    "      mid = size//2\n",
    "\n",
    "      mid_node = linked_list.node_at_index(mid-1)\n",
    "\n",
    "      left_half = linked_list\n",
    "      right_half = LinkedList()\n",
    "      right_half.head = mid_node.next_node\n",
    "      mid_node.next_node = None\n",
    "\n",
    "      return left_half, right_half\n",
    "\n",
    "  def merge(left, right):\n",
    "    \"\"\"\n",
    "    merges two linked lists, sorting by data in nodes\n",
    "    returns a new, merged lisr\n",
    "    \"\"\"\n",
    "\n",
    "    #create a new linked list that contains nodes from merging left and right\n",
    "    merged = LinkedList()\n",
    "\n",
    "    #add a fake head that is discarded later\n",
    "    merged.add(0)\n",
    "\n",
    "    #set current to the head of the linked list\n",
    "    current = merged.head\n",
    "\n",
    "    #obtain head nodes for left and right linked lists\n",
    "    left_head = left.head\n",
    "    right_head = right.head\n",
    "\n",
    "    #iterate over left and right until we reach the tail node of either\n",
    "    while left_head or right_head:\n",
    "      #if the head node of left is None, we're past the tail\n",
    "      #add the node from right to merged linked list\n",
    "\n",
    "      if left_head is None:\n",
    "        current.next_node = right_head\n",
    "        #call next on right to set loop condition to false\n",
    "        right_head = right_head.next_node\n",
    "        #if the head node of right is none, we're past the tail\n",
    "        #add the tail node from left to merged linked list\n",
    "\n",
    "      elif right_head is None:\n",
    "        current.next_node = left.head\n",
    "\n",
    "        #call next on left to set loop condition to False\n",
    "        left_head = left_head.next_node\n",
    "\n",
    "      else:\n",
    "        #not at either tail node\n",
    "        #obtain node data to perfom comparisions\n",
    "        left_data = left_head.data\n",
    "        right_data = right_head.data\n",
    "        #if data on left is less than right, set current to left node\n",
    "        if left_data < right_data:\n",
    "          current.next_node = left_head\n",
    "          #move left head to next node\n",
    "          left_head = left_head.next_node\n",
    "          #if data on left is greater than right, set current to right node\n",
    "\n",
    "        else:\n",
    "          current.next_node = right_head\n",
    "          #move right head to next node\n",
    "          right_head = right_head.next_node\n",
    "\n",
    "     #move current to next node\n",
    "    current = current.next_node\n",
    "\n",
    "  #discard fake head and set the 1st merged node as head\n",
    "  head = merged.head.next_node\n",
    "  merged.head = head\n",
    "\n",
    "  return merged\n",
    "\n",
    "k = LinkedList()\n",
    "k.add(10)\n",
    "k.add(2)\n",
    "k.add(200)\n",
    "k.add(44)\n",
    "\n",
    "print(k)\n",
    "sorted_linked_list = merge_sort(k)\n",
    "print(sorted_linked_list)\n",
    "\n",
    "\n",
    "\n",
    "\n"
   ]
  },
  {
   "cell_type": "code",
   "execution_count": null,
   "metadata": {
    "id": "VmlVlfJ4ZN8R"
   },
   "outputs": [],
   "source": []
  }
 ],
 "metadata": {
  "colab": {
   "provenance": []
  },
  "kernelspec": {
   "display_name": "Python 3 (ipykernel)",
   "language": "python",
   "name": "python3"
  },
  "language_info": {
   "codemirror_mode": {
    "name": "ipython",
    "version": 3
   },
   "file_extension": ".py",
   "mimetype": "text/x-python",
   "name": "python",
   "nbconvert_exporter": "python",
   "pygments_lexer": "ipython3",
   "version": "3.11.5"
  }
 },
 "nbformat": 4,
 "nbformat_minor": 4
}
